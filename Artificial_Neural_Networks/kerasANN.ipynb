{
 "cells": [
  {
   "cell_type": "code",
   "execution_count": 1,
   "metadata": {},
   "outputs": [
    {
     "name": "stderr",
     "output_type": "stream",
     "text": [
      "Using TensorFlow backend.\n"
     ]
    }
   ],
   "source": [
    "import keras"
   ]
  },
  {
   "cell_type": "code",
   "execution_count": 2,
   "metadata": {},
   "outputs": [
    {
     "name": "stdout",
     "output_type": "stream",
     "text": [
      "Requirement already satisfied: np_utils in ./.local/lib/python2.7/site-packages\n",
      "Requirement already satisfied: future>=0.16 in /usr/local/lib/python2.7/dist-packages (from np_utils)\n",
      "Requirement already satisfied: numpy>=1.0 in /usr/local/lib/python2.7/site-packages (from np_utils)\n",
      "Requirement already satisfied: mkl-random in /usr/local/lib/python2.7/dist-packages (from numpy>=1.0->np_utils)\n",
      "Requirement already satisfied: mkl-fft in /usr/local/lib/python2.7/dist-packages (from numpy>=1.0->np_utils)\n",
      "Requirement already satisfied: mkl in /usr/local/lib/python2.7/dist-packages (from numpy>=1.0->np_utils)\n",
      "Requirement already satisfied: tbb4py in /usr/local/lib/python2.7/dist-packages (from numpy>=1.0->np_utils)\n",
      "Requirement already satisfied: icc-rt in /usr/local/lib/python2.7/dist-packages (from numpy>=1.0->np_utils)\n",
      "Requirement already satisfied: intel-numpy in /usr/local/lib/python2.7/dist-packages (from mkl-random->numpy>=1.0->np_utils)\n",
      "Requirement already satisfied: intel-openmp in /usr/local/lib/python2.7/dist-packages (from mkl->numpy>=1.0->np_utils)\n",
      "Requirement already satisfied: tbb==2019.* in /usr/local/lib/python2.7/dist-packages (from tbb4py->numpy>=1.0->np_utils)\n"
     ]
    }
   ],
   "source": [
    "!pip install np_utils"
   ]
  },
  {
   "cell_type": "markdown",
   "metadata": {},
   "source": [
    "Data preprocessing"
   ]
  },
  {
   "cell_type": "code",
   "execution_count": 3,
   "metadata": {},
   "outputs": [],
   "source": [
    "import numpy as np\n",
    "import matplotlib.pyplot as plt\n",
    "import pandas as pd"
   ]
  },
  {
   "cell_type": "code",
   "execution_count": 22,
   "metadata": {},
   "outputs": [
    {
     "name": "stdout",
     "output_type": "stream",
     "text": [
      "Requirement already satisfied: kaggle in ./.local/lib/python2.7/site-packages\n",
      "Requirement already satisfied: requests in /usr/local/lib/python2.7/dist-packages (from kaggle)\n",
      "Requirement already satisfied: urllib3<1.23.0,>=1.15 in ./.local/lib/python2.7/site-packages (from kaggle)\n",
      "Requirement already satisfied: python-dateutil in /usr/local/lib/python2.7/dist-packages (from kaggle)\n",
      "Requirement already satisfied: six>=1.10 in /usr/local/lib/python2.7/dist-packages (from kaggle)\n",
      "Requirement already satisfied: tqdm in /usr/local/lib/python2.7/dist-packages (from kaggle)\n",
      "Requirement already satisfied: certifi in /usr/local/lib/python2.7/dist-packages (from kaggle)\n",
      "Requirement already satisfied: python-slugify in ./.local/lib/python2.7/site-packages (from kaggle)\n",
      "Requirement already satisfied: idna<2.9,>=2.5 in /usr/local/lib/python2.7/dist-packages (from requests->kaggle)\n",
      "Requirement already satisfied: chardet<3.1.0,>=3.0.2 in /usr/local/lib/python2.7/dist-packages (from requests->kaggle)\n",
      "Requirement already satisfied: Unidecode>=0.04.16 in ./.local/lib/python2.7/site-packages (from python-slugify->kaggle)\n",
      "/bin/sh: 1: kaggle: not found\n"
     ]
    }
   ],
   "source": [
    "!pip install kaggle\n",
    "!kaggle competitions download -c petfinder-adoption-prediction"
   ]
  },
  {
   "cell_type": "code",
   "execution_count": 4,
   "metadata": {},
   "outputs": [],
   "source": [
    "data = pd.read_csv('Churn_Modelling.csv')\n",
    "X = data.iloc[:, 3:13]\n",
    "y = data.iloc[:, -1]"
   ]
  },
  {
   "cell_type": "code",
   "execution_count": 15,
   "metadata": {},
   "outputs": [
    {
     "data": {
      "text/plain": [
       "Index(['CreditScore', 'Gender', 'Age', 'Balance', 'HasCrCard',\n",
       "       'IsActiveMember', 'EstimatedSalary', 'Geography_Germany',\n",
       "       'Geography_Spain', 'num_prods_2', 'num_prods_3', 'num_prods_4',\n",
       "       'tenure_1', 'tenure_2', 'tenure_3', 'tenure_4', 'tenure_5', 'tenure_6',\n",
       "       'tenure_7', 'tenure_8', 'tenure_9', 'tenure_10'],\n",
       "      dtype='object')"
      ]
     },
     "execution_count": 15,
     "metadata": {},
     "output_type": "execute_result"
    }
   ],
   "source": [
    "X_train.columns"
   ]
  },
  {
   "cell_type": "code",
   "execution_count": 5,
   "metadata": {},
   "outputs": [],
   "source": [
    "from sklearn.preprocessing import LabelEncoder, OneHotEncoder\n",
    "\"\"\"def encode_independent(ind):\n",
    "    le = LabelEncoder()\n",
    "    \n",
    "    X.iloc[:, ind] = le.fit_transform(X.iloc[:, ind])\"\"\"\n",
    "\n",
    "le = LabelEncoder()    \n",
    "X['Gender'] = le.fit_transform(X['Gender'])"
   ]
  },
  {
   "cell_type": "code",
   "execution_count": 6,
   "metadata": {},
   "outputs": [],
   "source": [
    "X_geog = pd.get_dummies(X['Geography'], prefix = 'Geography', drop_first = True)\n",
    "X = pd.concat([X, X_geog], axis = 1)\n",
    "\n",
    "X.drop(['Geography'], axis = 1, inplace = True)"
   ]
  },
  {
   "cell_type": "code",
   "execution_count": 7,
   "metadata": {},
   "outputs": [],
   "source": [
    "X_numprods = pd.get_dummies(X['NumOfProducts'], prefix = 'num_prods', drop_first = True)\n",
    "X = pd.concat([X, X_numprods], axis = 1)\n",
    "X.drop(['NumOfProducts'], axis = 1, inplace = True)"
   ]
  },
  {
   "cell_type": "code",
   "execution_count": 8,
   "metadata": {},
   "outputs": [],
   "source": [
    "X_tenure = pd.get_dummies(X['Tenure'], prefix = 'tenure', drop_first = True)\n",
    "X = pd.concat([X, X_tenure], axis = 1)\n",
    "X.drop(['Tenure'], axis = 1, inplace = True)"
   ]
  },
  {
   "cell_type": "code",
   "execution_count": 9,
   "metadata": {},
   "outputs": [],
   "source": [
    "from sklearn.model_selection import train_test_split\n",
    "\n",
    "X_train, X_val, y_train, y_val = train_test_split(X, y, test_size = 0.2)"
   ]
  },
  {
   "cell_type": "code",
   "execution_count": 10,
   "metadata": {},
   "outputs": [],
   "source": [
    "#feature scaling\n",
    "from sklearn.preprocessing import StandardScaler\n",
    "\n",
    "sc = StandardScaler()\n"
   ]
  },
  {
   "cell_type": "code",
   "execution_count": 11,
   "metadata": {},
   "outputs": [
    {
     "name": "stderr",
     "output_type": "stream",
     "text": [
      "/usr/local/lib/python3.5/dist-packages/ipykernel_launcher.py:1: SettingWithCopyWarning: \n",
      "A value is trying to be set on a copy of a slice from a DataFrame.\n",
      "Try using .loc[row_indexer,col_indexer] = value instead\n",
      "\n",
      "See the caveats in the documentation: http://pandas.pydata.org/pandas-docs/stable/indexing.html#indexing-view-versus-copy\n",
      "  \"\"\"Entry point for launching an IPython kernel.\n",
      "/usr/local/lib/python3.5/dist-packages/pandas/core/indexing.py:543: SettingWithCopyWarning: \n",
      "A value is trying to be set on a copy of a slice from a DataFrame.\n",
      "Try using .loc[row_indexer,col_indexer] = value instead\n",
      "\n",
      "See the caveats in the documentation: http://pandas.pydata.org/pandas-docs/stable/indexing.html#indexing-view-versus-copy\n",
      "  self.obj[item] = s\n",
      "/usr/local/lib/python3.5/dist-packages/ipykernel_launcher.py:2: SettingWithCopyWarning: \n",
      "A value is trying to be set on a copy of a slice from a DataFrame.\n",
      "Try using .loc[row_indexer,col_indexer] = value instead\n",
      "\n",
      "See the caveats in the documentation: http://pandas.pydata.org/pandas-docs/stable/indexing.html#indexing-view-versus-copy\n",
      "  \n"
     ]
    }
   ],
   "source": [
    "X_train[['CreditScore', 'Balance', 'EstimatedSalary']] = sc.fit_transform(X_train[['CreditScore', 'Balance', 'EstimatedSalary']])\n",
    "X_val[['CreditScore', 'Balance', 'EstimatedSalary']] = sc.transform(X_val[['CreditScore', 'Balance', 'EstimatedSalary']])"
   ]
  },
  {
   "cell_type": "code",
   "execution_count": 12,
   "metadata": {},
   "outputs": [],
   "source": [
    "y_train_temp = y_train.copy()\n",
    "y_val_temp = y_val.copy()\n",
    "from keras.utils.np_utils import to_categorical\n",
    "y_train = to_categorical(y_train)\n",
    "y_val = to_categorical(y_val)"
   ]
  },
  {
   "cell_type": "markdown",
   "metadata": {},
   "source": [
    "Making the ANN"
   ]
  },
  {
   "cell_type": "code",
   "execution_count": 40,
   "metadata": {},
   "outputs": [],
   "source": [
    "import keras\n",
    "from keras.models import Sequential\n",
    "from keras.layers import Dense"
   ]
  },
  {
   "cell_type": "code",
   "execution_count": 41,
   "metadata": {},
   "outputs": [],
   "source": [
    "#Initializing the Keras model\n",
    "classifier = Sequential()"
   ]
  },
  {
   "cell_type": "code",
   "execution_count": 42,
   "metadata": {},
   "outputs": [
    {
     "name": "stderr",
     "output_type": "stream",
     "text": [
      "/usr/local/lib/python3.5/dist-packages/ipykernel_launcher.py:2: UserWarning: Update your `Dense` call to the Keras 2 API: `Dense(input_dim=22, units=12, kernel_initializer=\"uniform\", activation=\"relu\")`\n",
      "  \n"
     ]
    }
   ],
   "source": [
    "#adding dense layers\n",
    "classifier.add(Dense(output_dim = 12, init = 'uniform', activation = 'relu', input_dim = 22))"
   ]
  },
  {
   "cell_type": "code",
   "execution_count": 43,
   "metadata": {},
   "outputs": [
    {
     "name": "stderr",
     "output_type": "stream",
     "text": [
      "/usr/local/lib/python3.5/dist-packages/ipykernel_launcher.py:2: UserWarning: Update your `Dense` call to the Keras 2 API: `Dense(units=12, kernel_initializer=\"uniform\", activation=\"relu\")`\n",
      "  \n"
     ]
    }
   ],
   "source": [
    "\n",
    "classifier.add(Dense(output_dim = 12, init = 'uniform', activation = 'relu'))"
   ]
  },
  {
   "cell_type": "code",
   "execution_count": 44,
   "metadata": {},
   "outputs": [
    {
     "name": "stderr",
     "output_type": "stream",
     "text": [
      "/usr/local/lib/python3.5/dist-packages/ipykernel_launcher.py:1: UserWarning: Update your `Dense` call to the Keras 2 API: `Dense(units=12, kernel_initializer=\"uniform\", activation=\"relu\")`\n",
      "  \"\"\"Entry point for launching an IPython kernel.\n"
     ]
    }
   ],
   "source": [
    "classifier.add(Dense(output_dim = 12, init = 'uniform', activation = 'relu'))"
   ]
  },
  {
   "cell_type": "code",
   "execution_count": 45,
   "metadata": {},
   "outputs": [
    {
     "name": "stderr",
     "output_type": "stream",
     "text": [
      "/usr/local/lib/python3.5/dist-packages/ipykernel_launcher.py:1: UserWarning: Update your `Dense` call to the Keras 2 API: `Dense(units=2, kernel_initializer=\"uniform\", activation=\"softmax\")`\n",
      "  \"\"\"Entry point for launching an IPython kernel.\n"
     ]
    }
   ],
   "source": [
    "classifier.add(Dense(output_dim = 2, init = 'uniform', activation = 'softmax'))"
   ]
  },
  {
   "cell_type": "code",
   "execution_count": 46,
   "metadata": {},
   "outputs": [],
   "source": [
    "callbacks = [keras.callbacks.EarlyStopping(monitor='val_loss',\n",
    "                              min_delta=0,\n",
    "                              patience=10,\n",
    "                              verbose=1, mode='auto')]"
   ]
  },
  {
   "cell_type": "code",
   "execution_count": 47,
   "metadata": {},
   "outputs": [],
   "source": [
    "#compile the ANN\n",
    "from keras.optimizers import Adam\n",
    "adam = Adam(lr = 1e-2)\n",
    "classifier.compile(optimizer = adam, loss = 'binary_crossentropy', metrics = ['accuracy'])"
   ]
  },
  {
   "cell_type": "code",
   "execution_count": null,
   "metadata": {},
   "outputs": [
    {
     "name": "stderr",
     "output_type": "stream",
     "text": [
      "/usr/local/lib/python3.5/dist-packages/ipykernel_launcher.py:6: UserWarning: The `nb_epoch` argument in `fit` has been renamed `epochs`.\n",
      "  \n"
     ]
    },
    {
     "name": "stdout",
     "output_type": "stream",
     "text": [
      "Train on 6400 samples, validate on 1600 samples\n",
      "Epoch 1/100\n",
      "6400/6400 [==============================] - 2s 373us/step - loss: 0.4702 - acc: 0.7940 - val_loss: 0.4340 - val_acc: 0.7769\n",
      "Epoch 2/100\n",
      "6400/6400 [==============================] - 1s 213us/step - loss: 0.4107 - acc: 0.8050 - val_loss: 0.4396 - val_acc: 0.8081\n",
      "Epoch 3/100\n",
      "6400/6400 [==============================] - 1s 217us/step - loss: 0.4038 - acc: 0.8289 - val_loss: 0.4169 - val_acc: 0.8206\n",
      "Epoch 4/100\n",
      "6400/6400 [==============================] - 1s 218us/step - loss: 0.3978 - acc: 0.8334 - val_loss: 0.4425 - val_acc: 0.8063\n",
      "Epoch 5/100\n",
      "6400/6400 [==============================] - 1s 219us/step - loss: 0.3914 - acc: 0.8356 - val_loss: 0.4260 - val_acc: 0.8113\n",
      "Epoch 6/100\n",
      "6400/6400 [==============================] - 1s 218us/step - loss: 0.3903 - acc: 0.8387 - val_loss: 0.4076 - val_acc: 0.8212\n",
      "Epoch 7/100\n",
      "6400/6400 [==============================] - 1s 227us/step - loss: 0.3857 - acc: 0.8395 - val_loss: 0.4048 - val_acc: 0.8225\n",
      "Epoch 8/100\n",
      "6400/6400 [==============================] - 1s 223us/step - loss: 0.3825 - acc: 0.8370 - val_loss: 0.4153 - val_acc: 0.8081\n",
      "Epoch 9/100\n",
      "6400/6400 [==============================] - 1s 214us/step - loss: 0.3817 - acc: 0.8408 - val_loss: 0.4049 - val_acc: 0.8138\n",
      "Epoch 10/100\n",
      "6400/6400 [==============================] - 2s 245us/step - loss: 0.3848 - acc: 0.8409 - val_loss: 0.4326 - val_acc: 0.7969\n",
      "Epoch 11/100\n",
      "6400/6400 [==============================] - 1s 234us/step - loss: 0.3800 - acc: 0.8416 - val_loss: 0.4172 - val_acc: 0.8225\n",
      "Epoch 12/100\n",
      "6400/6400 [==============================] - 1s 230us/step - loss: 0.3758 - acc: 0.8428 - val_loss: 0.4034 - val_acc: 0.8181\n",
      "Epoch 13/100\n",
      "6400/6400 [==============================] - 2s 235us/step - loss: 0.3747 - acc: 0.8495 - val_loss: 0.4231 - val_acc: 0.7975\n",
      "Epoch 14/100\n",
      "6400/6400 [==============================] - 2s 237us/step - loss: 0.3716 - acc: 0.8450 - val_loss: 0.3926 - val_acc: 0.8256\n",
      "Epoch 15/100\n",
      "6400/6400 [==============================] - 1s 230us/step - loss: 0.3746 - acc: 0.8447 - val_loss: 0.3979 - val_acc: 0.8281\n",
      "Epoch 16/100\n",
      "6400/6400 [==============================] - 1s 226us/step - loss: 0.3689 - acc: 0.8506 - val_loss: 0.3906 - val_acc: 0.8325\n",
      "Epoch 17/100\n",
      "6400/6400 [==============================] - 1s 220us/step - loss: 0.3709 - acc: 0.8486 - val_loss: 0.3958 - val_acc: 0.8300\n",
      "Epoch 18/100\n",
      "6400/6400 [==============================] - 1s 226us/step - loss: 0.3727 - acc: 0.8486 - val_loss: 0.3915 - val_acc: 0.8312\n",
      "Epoch 19/100\n",
      "6400/6400 [==============================] - 1s 201us/step - loss: 0.3629 - acc: 0.8530 - val_loss: 0.4075 - val_acc: 0.8294\n",
      "Epoch 20/100\n",
      "6400/6400 [==============================] - 1s 203us/step - loss: 0.3685 - acc: 0.8481 - val_loss: 0.4160 - val_acc: 0.8269\n",
      "Epoch 21/100\n",
      "6400/6400 [==============================] - 1s 200us/step - loss: 0.3659 - acc: 0.8509 - val_loss: 0.4077 - val_acc: 0.8337\n",
      "Epoch 22/100\n",
      "6400/6400 [==============================] - 1s 215us/step - loss: 0.3681 - acc: 0.8502 - val_loss: 0.3965 - val_acc: 0.8225\n",
      "Epoch 23/100\n",
      "6400/6400 [==============================] - 1s 211us/step - loss: 0.3637 - acc: 0.8509 - val_loss: 0.3908 - val_acc: 0.8331\n",
      "Epoch 24/100\n",
      "6400/6400 [==============================] - 1s 214us/step - loss: 0.3663 - acc: 0.8522 - val_loss: 0.3891 - val_acc: 0.8281\n",
      "Epoch 25/100\n",
      "6400/6400 [==============================] - 1s 227us/step - loss: 0.3638 - acc: 0.8530 - val_loss: 0.3955 - val_acc: 0.8287\n",
      "Epoch 26/100\n",
      "6400/6400 [==============================] - 1s 223us/step - loss: 0.3646 - acc: 0.8506 - val_loss: 0.3901 - val_acc: 0.8306\n",
      "Epoch 27/100\n",
      "6400/6400 [==============================] - 1s 211us/step - loss: 0.3592 - acc: 0.8553 - val_loss: 0.3847 - val_acc: 0.8281\n",
      "Epoch 28/100\n",
      "6400/6400 [==============================] - 1s 211us/step - loss: 0.3614 - acc: 0.8498 - val_loss: 0.3909 - val_acc: 0.8319\n",
      "Epoch 29/100\n",
      "6400/6400 [==============================] - 1s 222us/step - loss: 0.3593 - acc: 0.8525 - val_loss: 0.3862 - val_acc: 0.8281\n",
      "Epoch 30/100\n",
      "6400/6400 [==============================] - 1s 219us/step - loss: 0.3625 - acc: 0.8533 - val_loss: 0.4231 - val_acc: 0.8275\n",
      "Epoch 31/100\n",
      "6400/6400 [==============================] - 1s 219us/step - loss: 0.3632 - acc: 0.8525 - val_loss: 0.3843 - val_acc: 0.8312\n",
      "Epoch 32/100\n",
      "6400/6400 [==============================] - 1s 218us/step - loss: 0.3604 - acc: 0.8527 - val_loss: 0.3885 - val_acc: 0.8337\n",
      "Epoch 33/100\n",
      "6400/6400 [==============================] - 1s 209us/step - loss: 0.3570 - acc: 0.8534 - val_loss: 0.3978 - val_acc: 0.8219\n",
      "Epoch 34/100\n",
      "6400/6400 [==============================] - 1s 218us/step - loss: 0.3628 - acc: 0.8573 - val_loss: 0.3849 - val_acc: 0.8325\n",
      "Epoch 35/100\n",
      "6400/6400 [==============================] - 1s 221us/step - loss: 0.3569 - acc: 0.8609 - val_loss: 0.3924 - val_acc: 0.8237\n",
      "Epoch 36/100\n",
      "6400/6400 [==============================] - 1s 225us/step - loss: 0.3619 - acc: 0.8516 - val_loss: 0.3825 - val_acc: 0.8344\n",
      "Epoch 37/100\n",
      "6400/6400 [==============================] - 1s 216us/step - loss: 0.3583 - acc: 0.8530 - val_loss: 0.3845 - val_acc: 0.8325\n",
      "Epoch 38/100\n",
      "6400/6400 [==============================] - 1s 222us/step - loss: 0.3596 - acc: 0.8530 - val_loss: 0.4191 - val_acc: 0.8319\n",
      "Epoch 39/100\n",
      "6400/6400 [==============================] - 2s 235us/step - loss: 0.3568 - acc: 0.8536 - val_loss: 0.3911 - val_acc: 0.8212\n",
      "Epoch 40/100\n",
      "6400/6400 [==============================] - 1s 228us/step - loss: 0.3557 - acc: 0.8536 - val_loss: 0.4162 - val_acc: 0.8106\n",
      "Epoch 41/100\n",
      "6400/6400 [==============================] - 1s 211us/step - loss: 0.3575 - acc: 0.8555 - val_loss: 0.3991 - val_acc: 0.8362\n",
      "Epoch 42/100\n",
      "6400/6400 [==============================] - 1s 216us/step - loss: 0.3563 - acc: 0.8541 - val_loss: 0.3810 - val_acc: 0.8425\n",
      "Epoch 43/100\n",
      "6400/6400 [==============================] - 1s 209us/step - loss: 0.3548 - acc: 0.8564 - val_loss: 0.3807 - val_acc: 0.8331\n",
      "Epoch 44/100\n",
      "6400/6400 [==============================] - 2s 239us/step - loss: 0.3578 - acc: 0.8522 - val_loss: 0.3807 - val_acc: 0.8362\n",
      "Epoch 45/100\n",
      "6400/6400 [==============================] - 1s 229us/step - loss: 0.3546 - acc: 0.8555 - val_loss: 0.3838 - val_acc: 0.8325\n",
      "Epoch 46/100\n",
      "6400/6400 [==============================] - 1s 216us/step - loss: 0.3584 - acc: 0.8559 - val_loss: 0.3874 - val_acc: 0.8337\n",
      "Epoch 47/100\n",
      "6400/6400 [==============================] - 1s 211us/step - loss: 0.3536 - acc: 0.8584 - val_loss: 0.4011 - val_acc: 0.8369\n",
      "Epoch 48/100\n",
      "6400/6400 [==============================] - 1s 212us/step - loss: 0.3533 - acc: 0.8567 - val_loss: 0.3800 - val_acc: 0.8381\n",
      "Epoch 49/100\n",
      "4420/6400 [===================>..........] - ETA: 0s - loss: 0.3582 - acc: 0.8520"
     ]
    }
   ],
   "source": [
    "#training \n",
    "from sklearn.utils import compute_class_weight\n",
    "class_weights = compute_class_weight('balanced',\n",
    "                                                 np.unique(y_train_temp),\n",
    "                                                 y_train_temp)\n",
    "classifier.fit(X_train, y_train, batch_size = 20, nb_epoch = 100, callbacks = callbacks, validation_split = 0.2, class_weight = class_weights)"
   ]
  },
  {
   "cell_type": "markdown",
   "metadata": {},
   "source": [
    "Now that model has been trained to 85% accuracy , start with test/validation set"
   ]
  },
  {
   "cell_type": "code",
   "execution_count": null,
   "metadata": {},
   "outputs": [],
   "source": [
    "classifier.evaluate(X_val, y_val)"
   ]
  },
  {
   "cell_type": "code",
   "execution_count": 25,
   "metadata": {},
   "outputs": [],
   "source": [
    "y_pred = classifier.predict_classes(X_val)"
   ]
  },
  {
   "cell_type": "code",
   "execution_count": 27,
   "metadata": {},
   "outputs": [],
   "source": [
    "from sklearn.metrics import confusion_matrix\n",
    "\n",
    "cm = confusion_matrix(y_val_temp, y_pred)"
   ]
  },
  {
   "cell_type": "code",
   "execution_count": 28,
   "metadata": {},
   "outputs": [
    {
     "data": {
      "text/plain": [
       "array([[1604,   23],\n",
       "       [ 256,  117]])"
      ]
     },
     "execution_count": 28,
     "metadata": {},
     "output_type": "execute_result"
    }
   ],
   "source": [
    "cm"
   ]
  },
  {
   "cell_type": "code",
   "execution_count": null,
   "metadata": {},
   "outputs": [],
   "source": [
    "#false negatives are only 23 , so only 23 customers might leave without it being predicted?"
   ]
  },
  {
   "cell_type": "code",
   "execution_count": 39,
   "metadata": {},
   "outputs": [
    {
     "data": {
      "text/plain": [
       "array([[1604,   23],\n",
       "       [ 256,  117]])"
      ]
     },
     "execution_count": 39,
     "metadata": {},
     "output_type": "execute_result"
    }
   ],
   "source": [
    "y_pred_prob = classifier.predict(X_val)\n",
    "y_pred1 = (y_pred_prob[:, 1] > 0.5)\n",
    "cm1 = confusion_matrix(y_val_temp, y_pred1)\n",
    "cm1\n",
    "\n",
    "#IMP: CAN SET CONFIDENCE THIS WAY"
   ]
  },
  {
   "cell_type": "code",
   "execution_count": null,
   "metadata": {},
   "outputs": [],
   "source": [
    "#same results"
   ]
  },
  {
   "cell_type": "code",
   "execution_count": null,
   "metadata": {},
   "outputs": [],
   "source": []
  }
 ],
 "metadata": {
  "kernelspec": {
   "display_name": "Python 3",
   "language": "python",
   "name": "python3"
  },
  "language_info": {
   "codemirror_mode": {
    "name": "ipython",
    "version": 3
   },
   "file_extension": ".py",
   "mimetype": "text/x-python",
   "name": "python",
   "nbconvert_exporter": "python",
   "pygments_lexer": "ipython3",
   "version": "3.5.3"
  }
 },
 "nbformat": 4,
 "nbformat_minor": 2
}
